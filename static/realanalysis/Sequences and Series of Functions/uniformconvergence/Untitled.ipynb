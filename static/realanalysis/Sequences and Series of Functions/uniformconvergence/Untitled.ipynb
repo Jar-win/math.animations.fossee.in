{
 "cells": [
  {
   "cell_type": "markdown",
   "metadata": {},
   "source": [
    "## Uniform Convergence and Continuity"
   ]
  },
  {
   "cell_type": "markdown",
   "metadata": {},
   "source": [
    "### Definition\n",
    "\n",
    "If a sequence ${f_n}$ of continuous functions $f_n: A \\to R$ converges uniformly on $A \\subset R$ to $f: A \\to R$, then $f$ is continuous on A."
   ]
  },
  {
   "cell_type": "markdown",
   "metadata": {},
   "source": [
    "### Motivation\n",
    "\n",
    "Before discussing the essence of uniform convergence and continuity/differentiation, we need to understand the difference between Pointwise and Uniform convergence. <br>\n",
    "Convergence implies that a sequence of function ${f_n}$ tends to a function $f$ at very large values of $n$. \\\\\\\\\n",
    "In simple words, Pointwise convergence means that, at every point the sequence of functions has its own speed of convergence (that can be very fast at some points and very very very very slow at others).\n",
    " \\\\\\\\\n",
    "Consequently, Uniform convergence means there is an overall speed of convergence.\\\\\n",
    "(output1.mp4)\\\\\n",
    "Pointwise convergence is ideally the most natural way to define convergence, but it does not behave in the manner one might initially expect. For example, if a sequence of function is bounded, the pointwise convergence might not preserve its boundedness. \\\\\\\\\n",
    "Similar is the situation when we talk about continuity. If $f_n$ is a continuous function and is pointwise convergent to $f$, we cannot be sure that f is also continuous.\n",
    "It is illustrated through the following example. \\\\\n",
    "(output2.mp4)\n",
    "(Animation)\\\\\\\\\n",
    "\\newline\n",
    "Here, we can visualise the importance of Uniform Convergence which is well behaved as was expected from Pointwise convergence. It usually preserves the properties of the sequence of function under consideration.\n",
    "\\section{Bird’s Eye View}\n",
    "One of the most important property of uniform convergence is that it preserves continuity. It follows that uniform convergence is sufficient for preserving continuity. However, it is not necessary, that is, f being continuous does not imply that $f_n$ converges uniformly to $f$.\\\\\n",
    "$f_n(x)=\\frac{x}{n}$"
   ]
  },
  {
   "cell_type": "markdown",
   "metadata": {},
   "source": [
    "### Context of the Definition\n",
    "\n",
    "In order to understand the definition,We'll break it into certain parts. \n",
    "consider the following sequence of function:\\\\\n",
    "\\begin{center}\n",
    "\t$f_n(x)= \\frac{x}{1+nx^2}$   \n",
    "\\end{center}\n",
    "In the definition, $f_n$ is $Continuous$.\\\\\n",
    "So,first we check whether the function $f_n$ is $Continuous$ or $Not$.\\\\\n",
    "(fnContinuity.mp4)\\\\\n",
    "​\n",
    "(Animation)\n",
    "\\\\\\\\\n",
    "​\n",
    "Next, $f_n$ converges uniformly to $f$.\\\\\n",
    "To show the uniform convergence we would require the formal definition of Uniform Convergence.\\\\\n",
    "Suppose that $f_n$ is a sequence of functions $f_n : A \\to R$ and\n",
    "$f : A \\to R$. Then $f_n \\to f$ uniformly on $A$ if, for every $\\epsilon > 0$, there exists $N \\in N$\n",
    "such that\n",
    "$n > N$ implies that $|f_n(x) - f(x)| < \\epsilon$ $ \\forall$ $ x \\in A$\\\\\\\\\n",
    "The following animation shows that $\\forall x \\in [0,1]$ ,  $f_n$ converges to $f = 0$.\\\\\n",
    "(fnConvergence.mp4)\\\\\n",
    "​\n",
    "In the animation we have shown a general construct with a random N.In the following part, We will get the value of N and give a stronger reason, using the above stated definition, that the function under consideration is Uniformly convergent.\n",
    "\\\\\\\\\n",
    "We, have to prove that \\\\\n",
    "\\begin{tabular}{rr}\n",
    "\t&$|f_n(x) - f(x)| < \\epsilon $\\\\\\\\\n",
    "\t&$\\Longrightarrow  |f_n(x) - 0| < \\epsilon$\\\\\\\\\n",
    "\t&$\\Longrightarrow  |f_n(x) | < \\epsilon$\\\\\\\\\n",
    "\t&$\\Longrightarrow  |\\frac{x}{1+nx^2}| < \\epsilon$\\\\\n",
    "\\end{tabular}\\\\\\\\\\\\\n",
    "By using the method of finding the maximum using derivatives, we get,\\\\\n",
    "max $|f_n(x)|$ at $\\frac{1}{\\sqrt{n}}$ \\\\\n",
    "\\begin{center}\n",
    "\t$f_n(\\frac{1}{\\sqrt{n}})=\\frac{1}{2\\sqrt{n}}$\\vspace{0.5cm}\\\\\n",
    "\t$ \\frac{1}{2\\sqrt{n}}<\\epsilon$\\vspace{0.5cm}\\\\\n",
    "\t$\\sqrt{n}>\\frac{1}{2\\epsilon}$\\vspace{0.5cm}\\\\\n",
    "\t$n>\\frac{1}{4(\\epsilon)^2}$\\vspace{0.5cm}\\\\\n",
    "\\end{center}\n",
    "Let $\\epsilon>0$\\\\\\\\\n",
    "Choose $N>\\frac{1}{4\\epsilon^2}$\\\\\\\\\n",
    "Then $\\forall n>N, \\forall x \\in R , $\\\\\\\\\n",
    "$|f_n - 0| =|f_n|\\leq \\frac{1}{2\\sqrt{n}}<\\epsilon$ \\hspace{4cm} since max $|f_n|=\\frac{1}{2\\sqrt{n}}$\\\\\\\\\n",
    "Therefore, $f_n \\to f$ Uniformly.\n",
    "\\\\\\\\\n",
    "If the above conditions are satisfied then $f$ is continuous according to the theorem. So now we verify whether f is continuous or not, which is easy to see as\\\\ \n",
    "\\begin{center}\n",
    "\t$\\forall x\\in[0,1]$, $ f(x) =\\lim\\limits_{n\\to \\infty} f_n =0$ \n",
    "\\end{center}\n",
    "Thus, $f(x)=0$ is a continuous function.\n"
   ]
  },
  {
   "cell_type": "markdown",
   "metadata": {},
   "source": [
    "### Beyond the Definition\n",
    "We cannot state the same for a differentiable functions.Their uniform convergence does not imply anything about the convergence of their derivatives.  The reason lies in the way derivatives behave.The values of two functions may be close together while the values of their derivatives are far apart. \\\\\n",
    "Lets consider the same example we saw in the above section.\\\\\n",
    "We will shows that the limit of the derivatives need not equal the derivative of the limit even if a sequence of differentiable functions converges uniformly and their derivatives converge pointwise.\\\\\n",
    "$f_n = \\frac{x}{1+nx^2}$\\\\\n",
    "$f^{'}_{n} = \\frac{1-nx^2}{(1+nx^2)^2}$\\\\\n",
    "The sequence $f^{'}_n$ is also uniformly convergent.\n",
    "Let limit of $f^{'}_{n}$ be $f^{'}$ \\\\\\\\\n",
    "$ f^{'}=\\lim\\limits_{n\\to \\infty} f^{'}_{n} =$\\begin{math}\n",
    "\\left\\{\n",
    "\\begin{array}{l}\n",
    "0 \\hspace{0.5cm} if \\hspace{0.5cm}x \\ne 0\\\\\n",
    "1 \\hspace{0.5cm} if \\hspace{0.5cm}x = 0\n",
    "\\end{array}\n",
    "\\right.\n",
    "\\end{math} \n",
    "\n",
    "Clearly, $f'$ is discontinuous at $x = 0$. Thus, $f_n \\to 0$ uniformly, but $f^{'}_n(0) \\to 1$, so the limit of the derivatives is not the derivative of the limit.\\\\"
   ]
  },
  {
   "cell_type": "markdown",
   "metadata": {},
   "source": [
    "### Application\n",
    "\\begin{itemize}\n",
    "\t\\item This theorem is essential in real and fourier analysis, since earlier mathematicians had an intuitive understanding that a sequence of continuous functions always converges to a continuous function.\n",
    "\t\\item It shows that Uniform convergence is a stronger form of convergence for preserving continuity in the limit function.\n",
    "\\end{itemize}"
   ]
  },
  {
   "cell_type": "markdown",
   "metadata": {},
   "source": [
    "\\section{History}\n",
    "In 1821 Augustin-Louis Cauchy stated that a convergent sum of continuous functions always continuous, to that Niels Henrik Abel in 1826 found reputed counter examples within the context of Fourier series, proving  that Cauchy's proof was incorrect.At that time, complete standard notions of convergence didn exist. Cauchy had proofed convergence using infinitesimal methods, which turned out that what Cauchy proved is that a uniformly convergent sequence of continuous functions has a continuous limit.\n",
    "\n"
   ]
  },
  {
   "cell_type": "code",
   "execution_count": null,
   "metadata": {},
   "outputs": [],
   "source": [
    "\n",
    "\\section{Pause and Ponder}\n",
    "\\begin{itemize}\n",
    "\t\\item What essentially made the difference between pointwise and uniform convergence?\n",
    "\t\\item Is it necessary for the field to be real?\n",
    "\\end{itemize}\n",
    "\\section{References and  Further Reading}\n",
    "\n",
    "\\begin{thebibliography}{}\n",
    "\t\\bibitem{}Principles of Mathematical Analysis, 3rd edition, w.Rudin\\\\\n",
    "\t\\bibitem{}http://www.wright.edu/qun.li/MTH4320/4320S14/IntroAnalysis--JohnHunter.pdf\n",
    "\t\\bibitem{}http://www.math.iitb.ac.in/ars/week6.pdf\n",
    "\t\\bibitem{}https://people.math.gatech.edu/heil/6337/spring11/section0.1.pdf\n",
    "\\end{thebibliography}\n",
    "\\subsection*{Further Reading}\n",
    "[1]https://liu.diva-portal.org/smash/get/diva2:1218166/FULLTEXT01.pdf\n",
    "\\\\\\\\\n",
    "Name: Ani Samuel\\\\\n",
    "Mentor: \\\\\n",
    "Verified by:\\\\\n",
    "GitHub Link: \\\\\\\\\n",
    "The following notes and their corrosponding animations was created by the above-mentioned contributor under the FOSSEE Animations Internship.\n",
    "\\end{document}"
   ]
  }
 ],
 "metadata": {
  "kernelspec": {
   "display_name": "Python 3",
   "language": "python",
   "name": "python3"
  },
  "language_info": {
   "codemirror_mode": {
    "name": "ipython",
    "version": 3
   },
   "file_extension": ".py",
   "mimetype": "text/x-python",
   "name": "python",
   "nbconvert_exporter": "python",
   "pygments_lexer": "ipython3",
   "version": "3.7.5"
  }
 },
 "nbformat": 4,
 "nbformat_minor": 2
}
