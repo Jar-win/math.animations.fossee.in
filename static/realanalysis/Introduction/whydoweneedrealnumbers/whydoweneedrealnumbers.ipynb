{
 "cells": [
  {
   "cell_type": "markdown",
   "metadata": {},
   "source": [
    "### Definition\n",
    "A Real number is a cut in $\\mathbb{Q}$\n",
    "\n"
   ]
  },
  {
   "cell_type": "markdown",
   "metadata": {},
   "source": [
    "### Motivation\n",
    "\n",
    "It is a mind-boggling, yet rewarding task to contemplate the relationship between geometric length and arithmetic magnitude. Have you ever given it much thought? In the time of the Greeks, the prevailing number system was limited to the rational numbers. With this numerical structure, they were able to satisfactorily carry out measurements, but every once in a while, they would hit a wall. \n",
    "Take for example a square with area 2. We are aware that the area of a square is equal to its side multiplied to itself. However, there is no rational number whose square is equal to 2. \n",
    "​\n",
    "Essentially, the Greeks realised that not all ratios were commensurable, i.e. it was not always possible to find a third length that could be used to express the lengths that made up the ratio. Their number system was irreconcilable with incommensurability, and hence, they abandoned algebra for geometry, for compared to number, length was a better established, more concrete concept in their minds.\n",
    "​\n",
    "But how is it possible for $\\sqrt{2}$ to exist as a geometric length and not a number? \n",
    "​\n",
    "What follows is a geometrical proof that demonstrates that $\\sqrt{2}$ doesn't belong in $\\mathbb{Q}$. This particular proof is credited to the Princeton mathematician Stanley Tennenbaum.\n"
   ]
  },
  {
   "cell_type": "code",
   "execution_count": 1,
   "metadata": {},
   "outputs": [
    {
     "data": {
      "text/html": [
       "<video src=\"animation1.mp4\" controls  >\n",
       "      Your browser does not support the <code>video</code> element.\n",
       "    </video>"
      ],
      "text/plain": [
       "<IPython.core.display.Video object>"
      ]
     },
     "execution_count": 1,
     "metadata": {},
     "output_type": "execute_result"
    }
   ],
   "source": [
    "from IPython.display import Video\n",
    "Video(\"animation1.mp4\")"
   ]
  },
  {
   "cell_type": "markdown",
   "metadata": {},
   "source": [
    "### Bird's Eye View\n",
    "\n",
    "The existence of numbers like $\\sqrt{2}$ and $\\pi$ showed us that there were _gaps_ in the rational numbers. You could picture them as immeasurably small holes. These _gaps_ indicate to us that the rational numbers are indeed insufficient and _incomplete_.\n"
   ]
  },
  {
   "cell_type": "code",
   "execution_count": 2,
   "metadata": {},
   "outputs": [
    {
     "data": {
      "text/html": [
       "<video src=\"animation2.mp4\" controls  >\n",
       "      Your browser does not support the <code>video</code> element.\n",
       "    </video>"
      ],
      "text/plain": [
       "<IPython.core.display.Video object>"
      ]
     },
     "execution_count": 2,
     "metadata": {},
     "output_type": "execute_result"
    }
   ],
   "source": [
    "Video(\"animation2.mp4\")"
   ]
  },
  {
   "cell_type": "markdown",
   "metadata": {},
   "source": [
    "### Context of the definition\n",
    "\n",
    "How does one work around this limitation of the rationals? By constructing the real numbers, of course! To do so, we will use the concept of Dedekind Cuts. Using a Dedekind Cut, a real number is represented as a spot at which the number line has been _cut_ with an infinitely thin knife. Neat, isn't it?! Note, however, that this cut is not a gap between two individual rational numbers, rather, it is a gap between _two sets of rational numbers_ . What's remarkable about the Dedekind Cuts is the fact that it allows us to define a real number purely in terms of the rationals. \n"
   ]
  },
  {
   "cell_type": "markdown",
   "metadata": {},
   "source": [
    "**Definition of a cut:**\n",
    "\n",
    "A cut in  $\\mathbb{Q}$ is a pair of subsets A, B of $\\mathbb{Q}$ such that\n",
    "  1. $A \\cup  B = \\mathbb{Q}, A  \\neq \\emptyset , B \\neq \\emptyset ,A \\cap B = \\emptyset$\n",
    "  2. $\\textrm{If} a \\in A  \\textrm{ and } b \\in B  \\textrm{ then }  a < b$\n",
    "  3. A contains no largest element\n",
    " \n",
    "$\\sqrt{2}$ corresponds to the Dedekind cut $A\\mid B$ such that\n",
    "  1. A = { $r \\in \\mathbb{Q}:r\\leq 0 \\textrm{ or } r^{2}< 2$ }\n",
    "  2. B = { $r \\in \\mathbb{Q}:r> 0\\textrm{ and }r^{2}\\geq 2$ }"
   ]
  },
  {
   "cell_type": "code",
   "execution_count": 4,
   "metadata": {},
   "outputs": [
    {
     "data": {
      "text/html": [
       "<video src=\"animation3.mp4\" controls  >\n",
       "      Your browser does not support the <code>video</code> element.\n",
       "    </video>"
      ],
      "text/plain": [
       "<IPython.core.display.Video object>"
      ]
     },
     "execution_count": 4,
     "metadata": {},
     "output_type": "execute_result"
    }
   ],
   "source": [
    "Video(\"animation3.mp4\")"
   ]
  },
  {
   "cell_type": "markdown",
   "metadata": {},
   "source": [
    "### Applications\n",
    "\n",
    "The construction of real numbers comes in handy for more than just finding diagonals of unit squares. The rationals are inadequate when we deal with geometry, and more so when it comes to trigonometry or calculus, where numbers like $\\pi$ make frequent appearances while calculating slopes of tangents and areas under curves.\n"
   ]
  },
  {
   "cell_type": "markdown",
   "metadata": {},
   "source": [
    "### History\n",
    "\n",
    "The first mention of irrational numbers can be found in certain Sutras of the Vedic period. Aryabhatta used the word _aasanna_ , which roughly translates to _approaching_ , while determining the value $\\pi$. Our modern theory of real numbers, seems to derive more or less from Eudoxus's theory of proportions. Perhaps the most famous, and arguably one of the most elegant proofs in pure mathematics is that of $\\sqrt{2}$ is not rational as it appears in Book X of Euclid's Elements. \n"
   ]
  },
  {
   "cell_type": "markdown",
   "metadata": {},
   "source": [
    "## Pause and Ponder\n",
    "\n",
    "More than anything, the analysis of real numbers allows us to question the nature of the numbers we've been studying from primary school. Consider these seemingly simple question -\n",
    "\n",
    "1. What does it mean for a number to have a square root? We've seen that $\\sqrt{2}$ is real; can -2 have a square root?\n",
    "2. While defining a cut, why shouldn't set A of the cut have a largest element? Would it be equivalent to set B containing no smallest element? Why is this condition significant?\n",
    "3. We just constructed the real numbers. How would you suppose the natural numbers are constructed? What about the other number systems?"
   ]
  },
  {
   "cell_type": "markdown",
   "metadata": {},
   "source": [
    "### References and Further Readings\n",
    "\n",
    "#### References\n",
    "1. Pugh, Charles C.(2002). \\textit{Real Mathematical Analysis}\n",
    "2. Tao, Terence. (2006). \\textit{Analysis 1}\n",
    "\n",
    "#### Furhter Readings\n",
    "1. Cauchy Sequences\n",
    "2. Ordering of cuts and cut arithmetic\n",
    "3. https://www.cut-the-knot.org/proofs/sq_root.shtml"
   ]
  }
 ],
 "metadata": {
  "kernelspec": {
   "display_name": "Python 3",
   "language": "python",
   "name": "python3"
  },
  "language_info": {
   "codemirror_mode": {
    "name": "ipython",
    "version": 3
   },
   "file_extension": ".py",
   "mimetype": "text/x-python",
   "name": "python",
   "nbconvert_exporter": "python",
   "pygments_lexer": "ipython3",
   "version": "3.7.5"
  }
 },
 "nbformat": 4,
 "nbformat_minor": 2
}
